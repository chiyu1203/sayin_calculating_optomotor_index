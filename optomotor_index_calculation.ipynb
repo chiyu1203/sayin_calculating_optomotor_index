{
 "cells": [
  {
   "cell_type": "markdown",
   "metadata": {},
   "source": [
    "### calculating optomotor index and the use of database in [Sayin et al. ., Placeholder Year]"
   ]
  },
  {
   "cell_type": "markdown",
   "metadata": {},
   "source": [
    "Introduction\n",
    "\n",
    "in this notebook, we analyze the optomotor walking behaviour of locusts in response to dot motion, described in [Sayin et al. Placeholder Year]. We defined an optomotor index to quantify optomotor walking behaviour as the net angular velocities (clockwises and clockwise) for a given trial, normalised by the sum of the absolute value of the angular velocities. For details, please refer to [Sayin et al. Placeholder Year], and Seelig et al., 2010. Animal tracking was done by fictrac and visual stimuli were delivered on Bonsai. A customised code in python was used to preprocess the tracking, which includes applying Savitzky-Golay Filter to animal's position, aligning animal's movement with the timing of stimulus, and saving the tracking together with meta-data such as trial information, walking distance for a given trial. The dataset is as a 2D Pandas dataframe, stored in .parquet format ."
   ]
  },
  {
   "cell_type": "markdown",
   "metadata": {},
   "source": [
    "This notebook will show you steps of calculating optomotor index trials for a given trial with the provided dataset. \n",
    "The following python packages are required to access the data."
   ]
  },
  {
   "cell_type": "code",
   "execution_count": null,
   "metadata": {},
   "outputs": [],
   "source": [
    "# import sys\n",
    "\n",
    "# Install the following dependencies using the current Python kernel\n",
    "# !{sys.executable} -m pip install --upgrade --ignore-installed --no-cache-dir \\\n",
    "#     numpy <=2.0 \\\n",
    "#     pandas>=1.4.2 \\\n",
    "#     pyarrow \\\n",
    "#     fastparquet \\"
   ]
  },
  {
   "cell_type": "code",
   "execution_count": 1,
   "metadata": {},
   "outputs": [],
   "source": [
    "import numpy as np\n",
    "import pandas as pd"
   ]
  },
  {
   "cell_type": "code",
   "execution_count": 2,
   "metadata": {},
   "outputs": [],
   "source": [
    "def optomotor_response_idx(ev_dat):\n",
    "    opt_idx = (\n",
    "        np.nansum(abs(ev_dat[ev_dat > 0])) - np.nansum(abs(ev_dat[ev_dat < 0]))\n",
    "    ) / (np.nansum(abs(ev_dat[ev_dat < 0])) + np.nansum(abs(ev_dat[ev_dat > 0])))\n",
    "    return opt_idx"
   ]
  },
  {
   "cell_type": "code",
   "execution_count": 3,
   "metadata": {},
   "outputs": [],
   "source": [
    "path_name = r'Z:\\DATA\\experiment_trackball_Optomotor\\ANALYSIS\\Sercan et al\\density_database.parquet.gzip'\n",
    "dataset=pd.read_parquet(path_name)"
   ]
  },
  {
   "cell_type": "code",
   "execution_count": null,
   "metadata": {},
   "outputs": [
    {
     "data": {
      "text/plain": [
       "Index(['ID', 'growth_condition', 'opto_index_isi', 'opto_index',\n",
       "       'travel_distance_isi', 'travel_distance', 'stim_index', 'temperature',\n",
       "       'humidity', 'stim_type', 'present_trial_duration',\n",
       "       'preStim_ISI_duration', 'angular_velocity_f0'],\n",
       "      dtype='object')"
      ]
     },
     "execution_count": 25,
     "metadata": {},
     "output_type": "execute_result"
    }
   ],
   "source": [
    "#list up the column name of this dataset \n",
    "#(For clarity, the first 12th columns are shown in this cell, the rest of columns is named as \"angular_velocity_f{frame number}\"\n",
    "#f0 represents the start of inter-stimulus interval gray screen (5 seconds).\n",
    "#the start of the stimulus is from f720 (144 frame/s * 5-sec interval_length)\n",
    "dataset.columns[0:13]"
   ]
  },
  {
   "cell_type": "code",
   "execution_count": null,
   "metadata": {},
   "outputs": [
    {
     "data": {
      "text/plain": [
       "ID                                 0\n",
       "growth_condition          gregarious\n",
       "opto_index_isi              -0.14933\n",
       "opto_index                  0.516317\n",
       "travel_distance_isi              0.0\n",
       "                             ...    \n",
       "angular_velocity_f5035      -0.00149\n",
       "angular_velocity_f5036      0.005347\n",
       "angular_velocity_f5037      0.000472\n",
       "angular_velocity_f5038      0.000978\n",
       "angular_velocity_f5039      0.000969\n",
       "Name: 0, Length: 5052, dtype: object"
      ]
     },
     "execution_count": 22,
     "metadata": {},
     "output_type": "execute_result"
    }
   ],
   "source": [
    "#An overview about the first row (from the first trial of the first animal)\n",
    "dataset.iloc[0]"
   ]
  },
  {
   "cell_type": "code",
   "execution_count": null,
   "metadata": {},
   "outputs": [
    {
     "data": {
      "text/plain": [
       "0.5163166"
      ]
     },
     "execution_count": 21,
     "metadata": {},
     "output_type": "execute_result"
    }
   ],
   "source": [
    "#calculate optomotor response: use the first row as an example, parameters of the stimulus is described in [Sayin et al. ., Placeholder Year],\n",
    "trial_length=25\n",
    "interval_length=5\n",
    "fps=144\n",
    "opto_index=optomotor_response_idx(dataset.iloc[0,fps*interval_length+12:fps*(interval_length+trial_length)+12].values)\n",
    "print(opto_index)"
   ]
  }
 ],
 "metadata": {
  "kernelspec": {
   "display_name": "image_calib",
   "language": "python",
   "name": "python3"
  },
  "language_info": {
   "codemirror_mode": {
    "name": "ipython",
    "version": 3
   },
   "file_extension": ".py",
   "mimetype": "text/x-python",
   "name": "python",
   "nbconvert_exporter": "python",
   "pygments_lexer": "ipython3",
   "version": "3.10.4"
  }
 },
 "nbformat": 4,
 "nbformat_minor": 2
}
